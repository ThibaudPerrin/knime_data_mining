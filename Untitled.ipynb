{
 "cells": [
  {
   "cell_type": "markdown",
   "metadata": {},
   "source": [
    "# DATA MINING GOOGLE PLAY STORE#"
   ]
  },
  {
   "cell_type": "code",
   "execution_count": 5,
   "metadata": {},
   "outputs": [],
   "source": [
    "#import panda\n",
    "import pandas as pd\n",
    "import numpy as np\n",
    "\n",
    "\n",
    "from matplotlib import pyplot as plt\n",
    "#import algo bicluster\n",
    "from sklearn.cluster import SpectralBiclustering\n",
    "from sklearn.metrics import consensus_score\n",
    "from sklearn.preprocessing import LabelEncoder\n"
   ]
  },
  {
   "cell_type": "code",
   "execution_count": 11,
   "metadata": {},
   "outputs": [],
   "source": [
    "\n",
    "#chargement des données Google Play store\n",
    "data = pd.read_csv('./data/Google-Playstore-Full.csv')\n",
    "\n",
    "#suppression des colonnes manquantes\n",
    "cols = [11,12,13,14]\n",
    "\n",
    "data.drop(data.columns[cols],axis=1,inplace=True)\n",
    "\n",
    "data_google = data\n",
    "\n",
    "#chargement des review Google Play store\n",
    "data = pd.read_csv('./data/googleplaystore_user_reviews.csv')\n",
    "data_review = data"
   ]
  },
  {
   "cell_type": "markdown",
   "metadata": {},
   "source": [
    "## Traitement des données"
   ]
  },
  {
   "cell_type": "markdown",
   "metadata": {},
   "source": [
    "**Avant de commencer l'utilisation des différents algorithmes de data-mining , il est important de traiter les données , pour les données du Google Play Store , on peut voir que la taille est de former (x.xM) M correspondant à Mo , cette donnée n'est pas pertinente pour nous et ne peut pas être traité par les algos , il donc important de remettre en forme chaque colonne en fonction de ses caractéristiques**"
   ]
  },
  {
   "cell_type": "code",
   "execution_count": 12,
   "metadata": {},
   "outputs": [
    {
     "name": "stdout",
     "output_type": "stream",
     "text": [
      "(267052, 11)\n"
     ]
    }
   ],
   "source": [
    "#preparation des données\n",
    "print(data_google.shape)\n",
    "#suppression des lignes avec des valeurs manquantes\n",
    "data_google = data_google.dropna()\n",
    "\n",
    "#traitement de la column prix \n",
    "data_google['Price']= data_google['Price'].map(lambda x: x.lstrip('$€').rstrip(''))\n",
    "data_google = data_google[data_google['Price'].apply(lambda x: x.isnumeric())]\n",
    "data_google['Price'] = data_google['Price'].astype(float)\n",
    "\n",
    "#traitement de la column Rating\n",
    "data_google['Rating'] = data_google['Rating'].astype(float)\n",
    "\n",
    "#traitement de la column Installs\n",
    "data_google['Installs']= data_google['Installs'].map(lambda x: x.rstrip('+').replace(',',''))\n",
    "data_google['Installs'] = data_google['Installs'].astype(float)\n",
    "\n",
    "#traitement de la column Reviews\n",
    "data_google['Reviews'] = data_google['Reviews'].astype(float)\n",
    "\n",
    "#traitement de la column Size\n",
    "data_google['Size']= data_google['Size'].map(lambda x: x.rstrip('M'))\n",
    "data_google = data_google[data_google['Size'].apply(lambda x: x.isnumeric())]\n",
    "data_google['Size'] = data_google['Size'].astype(float)\n",
    "\n",
    "#traitement de la column Content Rating\n",
    "data_google['Content Rating']= data_google['Content Rating'].map(lambda x: x.replace('Everyone','0'))\n",
    "data_google['Content Rating']= data_google['Content Rating'].map(lambda x: x.replace('Teen','10'))\n",
    "data_google = data_google[data_google['Content Rating'].apply(lambda x: x.isnumeric())]\n",
    "data_google['Content Rating'] = data_google['Content Rating'].astype(np.float)\n",
    "\n",
    "\n"
   ]
  },
  {
   "cell_type": "markdown",
   "metadata": {},
   "source": [
    "## Influence du prix sur le telechargement / note "
   ]
  },
  {
   "cell_type": "code",
   "execution_count": 15,
   "metadata": {},
   "outputs": [
    {
     "name": "stdout",
     "output_type": "stream",
     "text": [
      "                                                App Name  Category    Rating  \\\n",
      "3                        foodpanda - Local Food Delivery        12  4.107233   \n",
      "5                                Safeway Online Shopping        12  3.825322   \n",
      "12                                           FreshDirect        33  3.213528   \n",
      "16                                           Chick-fil-A        12  4.374691   \n",
      "18      Seamless: Restaurant Takeout & Food Delivery App        12  4.517922   \n",
      "...                                                  ...       ...       ...   \n",
      "267033                 Bangla Alphabets (????? ????????)         8  3.545455   \n",
      "267037      German Learning App From Bangla For Free Use         8  4.512195   \n",
      "267039                      Stuffed Baked Potato Factory        42  4.638298   \n",
      "267044                     Masteran Cucak Ijo Terlengkap         9  4.176471   \n",
      "267045   Boys Men Hairstyles and Boys Hair cuts NEW 2019        33  5.000000   \n",
      "\n",
      "         Reviews    Installs  Size  Price  Content Rating       Last Updated  \\\n",
      "3       389154.0  10000000.0  16.0    0.0             0.0     March 22, 2019   \n",
      "5         2559.0    100000.0  23.0    0.0             0.0     March 29, 2019   \n",
      "12         754.0    100000.0  39.0    0.0             0.0     March 27, 2019   \n",
      "16       52526.0   5000000.0  19.0    0.0             0.0     March 21, 2019   \n",
      "18       41597.0   1000000.0  30.0    0.0             0.0     March 28, 2019   \n",
      "...          ...         ...   ...    ...             ...                ...   \n",
      "267033      11.0      1000.0  21.0    0.0             0.0    October 5, 2018   \n",
      "267037      82.0     10000.0  24.0    0.0             0.0        May 2, 2018   \n",
      "267039      47.0      5000.0  13.0    0.0             0.0        May 7, 2018   \n",
      "267044      34.0      1000.0  26.0    0.0             0.0   October 29, 2018   \n",
      "267045       3.0       100.0  12.0    0.0             0.0  February 10, 2019   \n",
      "\n",
      "       Minimum Version Latest Version  \n",
      "3           4.2 and up         4.18.2  \n",
      "5           5.0 and up          7.6.0  \n",
      "12          5.0 and up            6.7  \n",
      "16          5.0 and up          6.1.0  \n",
      "18          5.0 and up            7.3  \n",
      "...                ...            ...  \n",
      "267033      4.1 and up        1.0.0.3  \n",
      "267037    4.0.3 and up          2.0.3  \n",
      "267039      4.1 and up          2.0.6  \n",
      "267044      4.1 and up              2  \n",
      "267045      4.1 and up            1.1  \n",
      "\n",
      "[103760 rows x 11 columns]\n"
     ]
    }
   ],
   "source": [
    "print(data_google)\n",
    "#price_data = df[['Price','Installs']]\n",
    "\n"
   ]
  },
  {
   "cell_type": "code",
   "execution_count": 15,
   "metadata": {
    "scrolled": true
   },
   "outputs": [
    {
     "data": {
      "text/plain": [
       "SpectralBiclustering(init='k-means++', method='log', mini_batch=False, n_best=3,\n",
       "                     n_clusters=4, n_components=6, n_init=10, n_jobs=None,\n",
       "                     n_svd_vecs=None, random_state=0, svd_method='randomized')"
      ]
     },
     "execution_count": 15,
     "metadata": {},
     "output_type": "execute_result"
    }
   ],
   "source": []
  },
  {
   "cell_type": "code",
   "execution_count": null,
   "metadata": {
    "scrolled": true
   },
   "outputs": [],
   "source": []
  },
  {
   "cell_type": "code",
   "execution_count": null,
   "metadata": {},
   "outputs": [],
   "source": []
  },
  {
   "cell_type": "code",
   "execution_count": null,
   "metadata": {},
   "outputs": [],
   "source": []
  }
 ],
 "metadata": {
  "kernelspec": {
   "display_name": "Python 3",
   "language": "python",
   "name": "python3"
  },
  "language_info": {
   "codemirror_mode": {
    "name": "ipython",
    "version": 3
   },
   "file_extension": ".py",
   "mimetype": "text/x-python",
   "name": "python",
   "nbconvert_exporter": "python",
   "pygments_lexer": "ipython3",
   "version": "3.7.4"
  }
 },
 "nbformat": 4,
 "nbformat_minor": 2
}
